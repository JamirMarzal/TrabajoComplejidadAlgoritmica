{
 "cells": [
  {
   "cell_type": "code",
   "execution_count": 2,
   "outputs": [],
   "source": [
    "import osmnx as ox\n",
    "import networkx as nx\n",
    "import folium\n",
    "\n",
    "# Obtener el grafo del distrito de La Punta en Lima, Perú\n",
    "place_name = \"La punta, Lima, Perú\"\n",
    "graph = ox.graph_from_place(place_name, network_type=\"drive\")\n",
    "\n",
    "# Coordenadas de origen (ejemplo)\n",
    "orig_coord = (-12.071320, -77.165400)\n",
    "\n",
    "# Obtener el nodo más cercano a la ubicación de origen\n",
    "source_node = ox.distance.nearest_nodes(graph, orig_coord[1], orig_coord[0])\n",
    "\n",
    "# Obtener el subgrafo conexo más grande\n",
    "largest_subgraph = max(nx.strongly_connected_components(graph), key=len)\n",
    "\n",
    "# Crear un grafo dirigido que contenga solo los nodos del subgrafo conexo más grande\n",
    "subgraph = graph.subgraph(largest_subgraph)\n",
    "\n",
    "# Calcular una ruta aproximada que pase por todos los nodos posibles y regrese al origen\n",
    "route = list(nx.dfs_preorder_nodes(subgraph, source=source_node))\n",
    "\n",
    "# Agregar el nodo de origen al final de la ruta para regresar al punto de partida\n",
    "route.append(route[0])\n",
    "\n",
    "# Crear un mapa centrado en el lugar\n",
    "m = folium.Map(location=[orig_coord[0], orig_coord[1]], zoom_start=15, control_scale=True)\n",
    "\n",
    "# Dibujar los nodos y las aristas del grafo en el mapa\n",
    "folium.features.GeoJson(ox.graph_to_gdfs(graph, edges=False).to_json()).add_to(m)\n",
    "\n",
    "# Dibujar la ruta en el mapa\n",
    "edges = list(zip(route, route[1:]))\n",
    "for u, v in edges:\n",
    "    folium.PolyLine(locations=[(graph.nodes[u]['y'], graph.nodes[u]['x']), (graph.nodes[v]['y'], graph.nodes[v]['x'])],\n",
    "                    color='red').add_to(m)\n",
    "\n",
    "# Guardar el mapa en un archivo HTML\n",
    "m.save('map.html')\n"
   ],
   "metadata": {
    "collapsed": false,
    "ExecuteTime": {
     "end_time": "2023-06-17T04:16:51.122226Z",
     "start_time": "2023-06-17T04:16:26.803812500Z"
    }
   }
  },
  {
   "cell_type": "code",
   "execution_count": 3,
   "outputs": [
    {
     "name": "stdout",
     "output_type": "stream",
     "text": [
      "Archivo CSV creado exitosamente.\n"
     ]
    }
   ],
   "source": [
    "import csv\n",
    "\n",
    "# Obtener todos los nodos de la ciudad de La Punta\n",
    "nodes = list(subgraph.nodes())\n",
    "\n",
    "# Crear un archivo CSV\n",
    "with open('coordenadas.csv', 'w', newline='') as csvfile:\n",
    "    writer = csv.writer(csvfile)\n",
    "\n",
    "    # Escribir la cabecera del archivo CSV\n",
    "    writer.writerow(['latitud', 'longitud'])\n",
    "\n",
    "    # Escribir las coordenadas de los nodos en el archivo CSV\n",
    "    for node in nodes:\n",
    "        lat = graph.nodes[node]['y']\n",
    "        lon = graph.nodes[node]['x']\n",
    "        writer.writerow([lat, lon])\n",
    "\n",
    "print(\"Archivo CSV creado exitosamente.\")\n"
   ],
   "metadata": {
    "collapsed": false,
    "ExecuteTime": {
     "end_time": "2023-06-17T04:17:36.012296900Z",
     "start_time": "2023-06-17T04:17:36.006670100Z"
    }
   }
  }
 ],
 "metadata": {
  "kernelspec": {
   "display_name": "Python 3",
   "language": "python",
   "name": "python3"
  },
  "language_info": {
   "codemirror_mode": {
    "name": "ipython",
    "version": 2
   },
   "file_extension": ".py",
   "mimetype": "text/x-python",
   "name": "python",
   "nbconvert_exporter": "python",
   "pygments_lexer": "ipython2",
   "version": "2.7.6"
  }
 },
 "nbformat": 4,
 "nbformat_minor": 0
}
