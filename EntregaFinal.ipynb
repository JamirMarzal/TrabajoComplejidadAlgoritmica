{
 "cells": [
  {
   "cell_type": "code",
   "execution_count": 2,
   "metadata": {
    "ExecuteTime": {
     "end_time": "2023-06-17T04:16:51.122226Z",
     "start_time": "2023-06-17T04:16:26.803812500Z"
    },
    "collapsed": false
   },
   "outputs": [],
   "source": [
    "import osmnx as ox\n",
    "import networkx as nx\n",
    "import folium"
   ]
  },
  {
   "cell_type": "code",
   "execution_count": null,
   "metadata": {
    "ExecuteTime": {
     "end_time": "2023-06-17T04:17:36.012296900Z",
     "start_time": "2023-06-17T04:17:36.006670100Z"
    },
    "collapsed": false
   },
   "outputs": [],
   "source": [
    "place_name = \"Lince, Lima, Perú\"\n",
    "G = ox.graph_from_place(place_name, network_type=\"drive\")\n",
    "info = nx.node_link_data(G)\n",
    "data1=info['nodes']"
   ]
  },
  {
   "cell_type": "code",
   "execution_count": null,
   "metadata": {},
   "outputs": [],
   "source": [
    "def get_nodos():\n",
    "    nodos={value:i for i,value in enumerate(G.nodes())}\n",
    "    return nodos  "
   ]
  },
  {
   "cell_type": "code",
   "execution_count": null,
   "metadata": {},
   "outputs": [],
   "source": [
    "def create_adjacencylist(nodos,edges):    \n",
    "    lista =[]\n",
    "    fil=[]   \n",
    "    for v in nodos.keys():\n",
    "        for edge in edges:\n",
    "            if v == edge[0]:\n",
    "               fil.append(nodos[edge[1]])\n",
    "        lista.append(fil.copy())\n",
    "        fil.clear()    \n",
    "    return lista"
   ]
  },
  {
   "cell_type": "code",
   "execution_count": null,
   "metadata": {},
   "outputs": [],
   "source": [
    "g=create_adjacencylist(get_nodos(),G.edges())"
   ]
  },
  {
   "cell_type": "code",
   "execution_count": null,
   "metadata": {},
   "outputs": [],
   "source": [
    "def dfs(G,s):\n",
    "  n=len(G)\n",
    "  parent=[-1]*n\n",
    "  visited=[False]*n\n",
    "  visited[s]=True\n",
    "  def _dfs(G,s,parents,visiteds):\n",
    "    for value in G[s]:\n",
    "      if not visited[value]:\n",
    "        visiteds[value]=True\n",
    "        parents[value]=s\n",
    "        _dfs(G,value,parents,visiteds)\n",
    "    return parents    \n",
    "  return _dfs(G,s,parent,visited)\n",
    "\n",
    "def bfs(G,s):\n",
    "  n=len(G)\n",
    "  parent=[-1]*n\n",
    "  visited=[False]*n\n",
    "  visited[s]=True\n",
    "  cola=[s]\n",
    "  while cola:\n",
    "    nodo=cola.pop(0)\n",
    "    for value in G[nodo]:\n",
    "      if not visited[value]:\n",
    "        visited[value]=True\n",
    "        parent[value]=nodo\n",
    "        cola.append(value)\n",
    "  return parent"
   ]
  },
  {
   "cell_type": "code",
   "execution_count": null,
   "metadata": {},
   "outputs": [],
   "source": [
    "def search_nodo(x,y,data):    \n",
    "    for value in data['nodes']:\n",
    "        if value['x'] == x and value['y'] == y:\n",
    "            return value['id'] "
   ]
  },
  {
   "cell_type": "code",
   "execution_count": null,
   "metadata": {},
   "outputs": [],
   "source": [
    "def draw_map(route,data):    \n",
    "    orig_coord = (-12.0834612, -77.0270039)\n",
    "    m = folium.Map(location=[orig_coord[0], orig_coord[1]], zoom_start=15, control_scale=True)\n",
    "    folium.Marker(\n",
    "    [orig_coord[0],orig_coord[1]], popup=\"Comisaría Lince\").add_to(m)\n",
    "    for u, v in enumerate(route):\n",
    "        if v > 0:\n",
    "            folium.PolyLine(locations=[(data[u]['y'], data[u]['x']), (data[v]['y'], data[v]['x'])],\n",
    "                    color='red').add_to(m)\n",
    "    m.save('map2.html')    "
   ]
  },
  {
   "cell_type": "code",
   "execution_count": null,
   "metadata": {},
   "outputs": [],
   "source": [
    "draw_map(dfs(g,5),data1)"
   ]
  }
 ],
 "metadata": {
  "kernelspec": {
   "display_name": "Python 3",
   "language": "python",
   "name": "python3"
  },
  "language_info": {
   "codemirror_mode": {
    "name": "ipython",
    "version": 2
   },
   "file_extension": ".py",
   "mimetype": "text/x-python",
   "name": "python",
   "nbconvert_exporter": "python",
   "pygments_lexer": "ipython2",
   "version": "2.7.6"
  }
 },
 "nbformat": 4,
 "nbformat_minor": 0
}
